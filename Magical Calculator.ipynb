{
 "cells": [
  {
   "cell_type": "code",
   "execution_count": 4,
   "metadata": {},
   "outputs": [],
   "source": [
    "import re"
   ]
  },
  {
   "cell_type": "code",
   "execution_count": 15,
   "metadata": {},
   "outputs": [
    {
     "name": "stdout",
     "output_type": "stream",
     "text": [
      "Magic Calculator\n",
      "type quit to EXIT\n",
      "\n",
      "Enter Your Name:arul\n",
      "Enter Equation:y\n",
      "tolong masukan angka\n",
      "Enter Equation:sdf\n",
      "tolong masukan angka\n",
      "Enter Equation:4\n",
      "you typed 4\n",
      "4+7\n",
      "you typed 11\n",
      "11quit\n",
      "goodbye, arul\n"
     ]
    }
   ],
   "source": [
    "\n",
    "print('Magic Calculator')\n",
    "print('type quit to EXIT\\n')\n",
    "\n",
    "previous = 0\n",
    "run = True\n",
    "name = input('Enter Your Name:')\n",
    "\n",
    "def performMath():\n",
    "    global run\n",
    "    global previous\n",
    "    global name\n",
    "    equation=\"\"\n",
    "    if previous == 0:\n",
    "        equation = input('Enter Equation:')\n",
    "    else:\n",
    "        equation = input(str(previous))\n",
    "    try:\n",
    "        if equation == 'quit':\n",
    "            print(\"goodbye, {}\".format(name))\n",
    "            run = False\n",
    "        else:\n",
    "            equation = re.sub('[a-zA-Z,.:()\" \"]','', equation)\n",
    "            if previous == 0:\n",
    "                previous = eval(equation)\n",
    "            else:\n",
    "                previous = eval(str(previous) + equation)\n",
    "            print('you typed {}'.format(previous))\n",
    "    except SyntaxError:\n",
    "        print('tolong masukan angka')\n",
    "        \n",
    "while run:\n",
    "    performMath()"
   ]
  },
  {
   "cell_type": "code",
   "execution_count": null,
   "metadata": {},
   "outputs": [],
   "source": []
  }
 ],
 "metadata": {
  "kernelspec": {
   "display_name": "Python 3",
   "language": "python",
   "name": "python3"
  },
  "language_info": {
   "codemirror_mode": {
    "name": "ipython",
    "version": 3
   },
   "file_extension": ".py",
   "mimetype": "text/x-python",
   "name": "python",
   "nbconvert_exporter": "python",
   "pygments_lexer": "ipython3",
   "version": "3.7.3"
  }
 },
 "nbformat": 4,
 "nbformat_minor": 2
}
